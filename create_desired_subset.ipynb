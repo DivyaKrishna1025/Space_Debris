{
  "nbformat": 4,
  "nbformat_minor": 0,
  "metadata": {
    "colab": {
      "private_outputs": true,
      "provenance": [],
      "machine_shape": "hm"
    },
    "kernelspec": {
      "name": "python3",
      "display_name": "Python 3"
    },
    "language_info": {
      "name": "python"
    }
  },
  "cells": [
    {
      "cell_type": "code",
      "execution_count": null,
      "metadata": {
        "id": "ZZEpTnfYtYKB"
      },
      "outputs": [],
      "source": [
        "from google.colab import drive\n",
        "drive.mount('/content/drive')"
      ]
    },
    {
      "cell_type": "code",
      "source": [
        "import os\n",
        "\n",
        "\n",
        "# Define the folder containing label files\n",
        "label_folder = \"/content/drive/Shareddrives/1:1_Divya_Krishna/Data/processed_data_for_object_detection/test/labels\"\n",
        "dest_dir = \"/content/drive/Shareddrives/1:1_Divya_Krishna/Data/500img_subset/labels\"\n",
        "#label_folder = dest_dir\n",
        "try:\n",
        "  file_list = os.listdir(label_folder)\n",
        "  print(file_list)\n",
        "except Exception as e:\n",
        "  print(f\"Error processing file {file_list}: {str(e)}\")\n"
      ],
      "metadata": {
        "id": "PYfOY2t0WSHA"
      },
      "execution_count": null,
      "outputs": []
    },
    {
      "cell_type": "code",
      "source": [
        "count = 0\n",
        "# Iterate directory\n",
        "for path in os.listdir(label_folder):\n",
        "    # check if current path is a file\n",
        "    if os.path.isfile(os.path.join(label_folder, path)):\n",
        "        count += 1\n",
        "print('File count:', count)"
      ],
      "metadata": {
        "id": "R2PhZa7nOyeg"
      },
      "execution_count": null,
      "outputs": []
    },
    {
      "cell_type": "code",
      "source": [
        "from tqdm import tqdm\n",
        "import random\n",
        "random.shuffle(file_list)\n",
        "# Create a dictionary to store the category frequencies\n",
        "category_frequency = {}\n",
        "print(len(file_list))\n",
        "# Iterate through label files in the folder\n",
        "for filename in tqdm(file_list):\n",
        "    if filename.endswith('.txt'):\n",
        "        file_path = os.path.join(label_folder, filename)\n",
        "        with open(file_path, 'r') as label_file:\n",
        "            lines = label_file.readlines()\n",
        "            for line in lines:\n",
        "                # Split the line into individual values\n",
        "                values = line.strip().split()\n",
        "\n",
        "                # The category is the first value in each line\n",
        "                category = values[0]\n",
        "\n",
        "                # Increment the category frequency count\n",
        "                category_frequency[category] = category_frequency.get(category, 0) + 1\n",
        "\n",
        "# Print the unique categories and their frequencies\n",
        "for category, frequency in category_frequency.items():\n",
        "    print(f'Category {category}: Frequency {frequency}')"
      ],
      "metadata": {
        "id": "gTJ7voXDdcoL"
      },
      "execution_count": null,
      "outputs": []
    },
    {
      "cell_type": "code",
      "source": [
        "# Print the unique categories and their frequencies\n",
        "for category, frequency in category_frequency.items():\n",
        "    print(f'Category {category}: Frequency {frequency}')"
      ],
      "metadata": {
        "id": "RTlgAhetdXDi"
      },
      "execution_count": null,
      "outputs": []
    },
    {
      "cell_type": "code",
      "source": [
        "import os\n",
        "import shutil\n",
        "\n",
        "def collect_images(src_img_dir, src_label_dir, dest_dir, categories, num_per_cat, label_files):\n",
        "    # Ensure the destination directory exists\n",
        "    os.makedirs(dest_dir + '/images', exist_ok=True)\n",
        "    os.makedirs(dest_dir + '/labels', exist_ok=True)\n",
        "\n",
        "\n",
        "    # Iterate over each category to collect images\n",
        "    for cat in categories:\n",
        "        # Initialize a counter for the number of images collected for the category\n",
        "        count = 0\n",
        "\n",
        "        # Iterate over the label files to find matches for the category\n",
        "        for label_file in label_files:\n",
        "            if count >= num_per_cat:\n",
        "                break  # Stop if we've collected the desired number of images\n",
        "\n",
        "            # Construct the full path to the label file\n",
        "            full_label_path = os.path.join(src_label_dir, label_file)\n",
        "\n",
        "            # Read the label file\n",
        "            with open(full_label_path, 'r') as file:\n",
        "                labels = file.readlines()\n",
        "\n",
        "            # Check if the category is in the label file\n",
        "            for label in labels:\n",
        "                label_parts = label.strip().split()\n",
        "                if int(label_parts[0]) == cat:\n",
        "                    src_label_path = src_label_dir + '/' + label_file\n",
        "                    dest_label_path = dest_dir + '/labels/' + label_file\n",
        "                    # move the label to the destination directory\n",
        "                    shutil.copy(src_label_path, dest_label_path)\n",
        "                    # If the category is found, copy the corresponding image to the destination directory\n",
        "                    img_name = label_file.replace('.txt', '.jpg')\n",
        "                    src_img_path = os.path.join(src_img_dir, img_name)\n",
        "                    dest_img_path = os.path.join(dest_dir, 'images', img_name)\n",
        "                    shutil.copy(src_img_path, dest_img_path)\n",
        "                    count += 1\n",
        "                    break  # Move to the next file after finding a match\n",
        "\n",
        "# Example usage:\n",
        "src_img_dir = \"/content/drive/Shareddrives/1:1_Divya_Krishna/Data/Spark-2022-stream-1/train\"\n",
        "src_label_dir = \"/content/drive/Shareddrives/1:1_Divya_Krishna/Data/Spark-2022-stream-1/labels/train_labels\"\n",
        "dest_dir = \"/content/drive/Shareddrives/1:1_Divya_Krishna/Data/500img_subset\"\n",
        "categories = [0, 1, 2, 3, 4, 5, 6, 7, 8, 9, 10]  # Specify desired categories here\n",
        "num_per_cat = 50  # Specify the number of images per category\n",
        "label_files = file_list\n",
        "# Collect the specified images\n",
        "collect_images(src_img_dir, src_label_dir, dest_dir, categories, num_per_cat, label_files)\n",
        "\n"
      ],
      "metadata": {
        "id": "hWVN5jWXuKfT"
      },
      "execution_count": null,
      "outputs": []
    }
  ]
}