{
  "nbformat": 4,
  "nbformat_minor": 0,
  "metadata": {
    "colab": {
      "private_outputs": true,
      "provenance": []
    },
    "kernelspec": {
      "name": "python3",
      "display_name": "Python 3"
    },
    "language_info": {
      "name": "python"
    }
  },
  "cells": [
    {
      "cell_type": "code",
      "execution_count": null,
      "metadata": {
        "id": "HmHdJjqPqoQI"
      },
      "outputs": [],
      "source": [
        "from google.colab import drive\n",
        "drive.mount('/content/drive')"
      ]
    },
    {
      "cell_type": "code",
      "source": [
        "import pandas as pd\n",
        "from PIL import Image\n",
        "import os\n",
        "import numpy as np\n",
        "from tqdm.notebook import tqdm\n",
        "import json"
      ],
      "metadata": {
        "id": "VQ2LdAR6q0yu"
      },
      "execution_count": null,
      "outputs": []
    },
    {
      "cell_type": "code",
      "source": [
        "IMAGE_PATH = \"/content/drive/Shareddrives/1:1DivyaKrishna/Data/subset-spark-test/images\"\n",
        "ANNOTATION_PATH = \"/content/drive/Shareddrives/1:1DivyaKrishna/Data/subset-spark-test/labels\"\n",
        "NEW_ANNOTATION_PATH = \"/content/drive/Shareddrives/1:1DivyaKrishna/Data/subset-spark-test/labels-yolov8\""
      ],
      "metadata": {
        "id": "_XF527Oiq27a"
      },
      "execution_count": null,
      "outputs": []
    },
    {
      "cell_type": "markdown",
      "source": [
        "# Order of bounding boxes\n",
        "y_min, x_min, y_max, x_max = [121, 258, 783, 1024]"
      ],
      "metadata": {
        "id": "Gej4vPErq7gF"
      }
    },
    {
      "cell_type": "markdown",
      "source": [
        "{0: 'cheops', 1: 'debris', 2: 'double_star', 3: 'earth_observation_sat_1', 4: 'lisa_pathfinder', 5: 'proba_2', 6: 'proba_3_csc', 7: 'proba_3_ocs', 8: 'smart_1', 9: 'soho', 10: 'xmm_newton'}\n"
      ],
      "metadata": {
        "id": "j0VUJzsVrB5n"
      }
    },
    {
      "cell_type": "code",
      "source": [
        "def create_yolo_coordinates(bbox, img_details, index):\n",
        "    # extract coordinates\n",
        "    #x_min, y_min, x_max, y_max = bbox\n",
        "    y_min, x_min, y_max, x_max = bbox\n",
        "    width, height = img_details\n",
        "\n",
        "    # get the x center y center\n",
        "    bbox_width_normalize = (x_max - x_min)/width\n",
        "    bbox_height_normalize = (y_max - y_min)/height\n",
        "    x_center_normalise = ((x_max + x_min)/2)/width\n",
        "    y_center_normalise = ((y_max + y_min)/2)/height\n",
        "    #create the coorindate prompt\n",
        "    cooridinates = f\"{index} {x_center_normalise} {y_center_normalise} {bbox_width_normalize} {bbox_height_normalize}\"\n",
        "    return cooridinates"
      ],
      "metadata": {
        "id": "Q_Wfarw4q9TY"
      },
      "execution_count": null,
      "outputs": []
    },
    {
      "cell_type": "code",
      "source": [
        "from tqdm import tqdm\n",
        "# all the images have same dimension\n",
        "IMAGE_SIZE = [1024, 1024]\n",
        "file_list = os.listdir(ANNOTATION_PATH)\n",
        "\n",
        "for text_file_name in tqdm(file_list):\n",
        "  input_file_path = ANNOTATION_PATH + '/' + text_file_name\n",
        "  output_file_path = NEW_ANNOTATION_PATH + '/' + text_file_name\n",
        "  with open(input_file_path, 'r') as input_file, open(output_file_path, 'w') as output_file:\n",
        "      # Loop through each line in the input file\n",
        "      for line in input_file:\n",
        "          # Split the line to extract the bbox values\n",
        "          values = line.strip().split()\n",
        "\n",
        "          # Convert the values to float\n",
        "          bbox = [float(value) for value in values[1:]]  # Exclude the first value (index)\n",
        "\n",
        "          # Call the create_yolo_coordinates function to convert the bbox values\n",
        "          img_details = (IMAGE_SIZE[0], IMAGE_SIZE[1])  # Provide the image width and height\n",
        "          index = int(values[0])  # Convert the index to an integer\n",
        "          yolo_coordinates = create_yolo_coordinates(bbox, img_details, index)\n",
        "          # Write the converted coordinates to the output file\n",
        "          output_file.write(yolo_coordinates + '\\n')\n",
        "\n"
      ],
      "metadata": {
        "id": "h4SkD4N9rIKY"
      },
      "execution_count": null,
      "outputs": []
    }
  ]
}