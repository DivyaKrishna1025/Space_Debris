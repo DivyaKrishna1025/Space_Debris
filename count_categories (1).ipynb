{
  "nbformat": 4,
  "nbformat_minor": 0,
  "metadata": {
    "colab": {
      "private_outputs": true,
      "provenance": []
    },
    "kernelspec": {
      "name": "python3",
      "display_name": "Python 3"
    },
    "language_info": {
      "name": "python"
    }
  },
  "cells": [
    {
      "cell_type": "code",
      "source": [
        "from google.colab import drive\n",
        "drive.mount('/content/drive')"
      ],
      "metadata": {
        "id": "8tNp6NIwEa2P"
      },
      "execution_count": null,
      "outputs": []
    },
    {
      "cell_type": "code",
      "source": [
        "label_dir = \"/content/drive/Shareddrives/1:1_Divya_Krishna/Data/processed_data_for_object_detection/train/labels\""
      ],
      "metadata": {
        "id": "KdioCtkEEb2l"
      },
      "execution_count": null,
      "outputs": []
    },
    {
      "cell_type": "code",
      "execution_count": null,
      "metadata": {
        "id": "25xxtCq0EWV3"
      },
      "outputs": [],
      "source": [
        "import os\n",
        "import matplotlib.pyplot as plt\n",
        "\n",
        "\n",
        "# Dictionary to store the count of each category\n",
        "category_counts = {}\n",
        "\n",
        "# Iterate over all label files in the directory\n",
        "for filename in os.listdir(label_dir):\n",
        "    if filename.endswith('.txt'):\n",
        "        with open(os.path.join(label_dir, filename), 'r') as file:\n",
        "            for line in file:\n",
        "                class_index = int(line.split()[0])\n",
        "                category_counts[class_index] = category_counts.get(class_index, 0) + 1\n",
        "\n",
        "# Sort the categories by index\n",
        "sorted_categories = sorted(category_counts.items(), key=lambda x: x[0])\n",
        "\n",
        "# Separate the categories and their counts for plotting\n",
        "categories, counts = zip(*sorted_categories)\n",
        "\n",
        "# Create a bar plot\n",
        "plt.bar(categories, counts)\n",
        "plt.xlabel('Category')\n",
        "plt.ylabel('Count')\n",
        "plt.title('Distribution of Categories in YOLOv8 Label Files')\n",
        "plt.xticks(categories)  # Set x-axis ticks to be category indices\n",
        "plt.show()\n"
      ]
    }
  ]
}